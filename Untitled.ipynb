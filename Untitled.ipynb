{
 "cells": [
  {
   "cell_type": "code",
   "execution_count": null,
   "id": "0489e8a2",
   "metadata": {},
   "outputs": [],
   "source": [
    "from matplotlib.patches import ConnectionPatch\n",
    "import matplotlib.pyplot as plt\n",
    "import numpy as np\n",
    "import scipy.spatial.distance as dist"
   ]
  },
  {
   "cell_type": "code",
   "execution_count": null,
   "id": "eff07f5d",
   "metadata": {},
   "outputs": [],
   "source": [
    "def dp(dist_mat):\n",
    "    \"\"\"\n",
    "    Find minimum-cost path through matrix `dist_mat` using dynamic programming.\n",
    "\n",
    "    The cost of a path is defined as the sum of the matrix entries on that\n",
    "    path. See the following for details of the algorithm:\n",
    "\n",
    "    - http://en.wikipedia.org/wiki/Dynamic_time_warping\n",
    "    - https://www.ee.columbia.edu/~dpwe/resources/matlab/dtw/dp.m\n",
    "\n",
    "    The notation in the first reference was followed, while Dan Ellis's code\n",
    "    (second reference) was used to check for correctness. Returns a list of\n",
    "    path indices and the cost matrix.\n",
    "    \"\"\"\n",
    "\n",
    "    N, M = dist_mat.shape\n",
    "    \n",
    "    # Initialize the cost matrix\n",
    "    # \n",
    "    cost_mat = np.zeros((N + 1, M + 1))\n",
    "    for i in range(1, N + 1):\n",
    "        cost_mat[i, 0] = np.inf\n",
    "    for i in range(1, M + 1):\n",
    "        cost_mat[0, i] = np.inf\n",
    "\n",
    "    # Fill the cost matrix while keeping traceback information\n",
    "    traceback_mat = np.zeros((N, M))\n",
    "    for i in range(N):\n",
    "        for j in range(M):\n",
    "            penalty = [\n",
    "                cost_mat[i, j],      # match (0)\n",
    "                cost_mat[i, j + 1],  # insertion (1)\n",
    "                cost_mat[i + 1, j]]  # deletion (2)\n",
    "            i_penalty = np.argmin(penalty)\n",
    "            cost_mat[i + 1, j + 1] = dist_mat[i, j] + penalty[i_penalty]\n",
    "            traceback_mat[i, j] = i_penalty\n",
    "\n",
    "    # Traceback from bottom right\n",
    "    i = N - 1\n",
    "    j = M - 1\n",
    "    path = [(i, j)]\n",
    "    while i > 0 or j > 0:\n",
    "        tb_type = traceback_mat[i, j]\n",
    "        if tb_type == 0:\n",
    "            # Match\n",
    "            i = i - 1\n",
    "            j = j - 1\n",
    "        elif tb_type == 1:\n",
    "            # Insertion\n",
    "            i = i - 1\n",
    "        elif tb_type == 2:\n",
    "            # Deletion\n",
    "            j = j - 1\n",
    "        path.append((i, j))\n",
    "\n",
    "    # Strip infinity edges from cost_mat before returning\n",
    "    cost_mat = cost_mat[1:, 1:]\n",
    "    return (path[::-1],cost_mat)"
   ]
  },
  {
   "cell_type": "code",
   "execution_count": null,
   "id": "48854210",
   "metadata": {},
   "outputs": [],
   "source": [
    "# Distance matrix\n",
    "N = x.shape[0]\n",
    "M = y.shape[0]\n",
    "dist_mat = np.zeros((N, M))\n",
    "for i in range(N):\n",
    "    for j in range(M):\n",
    "        dist_mat[i, j] = abs(x[i] - y[j])"
   ]
  },
  {
   "cell_type": "code",
   "execution_count": null,
   "id": "24181464",
   "metadata": {},
   "outputs": [],
   "source": [
    "# DTW\n",
    "path, cost_mat = dp(dist_mat)\n",
    "print(\"Alignment cost: {:.4f}\".format(cost_mat[N - 1, M - 1]))\n",
    "print(\"Normalized alignment cost: {:.4f}\".format(cost_mat[N - 1, M - 1]/(N + M)))\n",
    "\n",
    "plt.figure(figsize=(6, 4))\n",
    "plt.subplot(121)\n",
    "plt.title(\"Distance matrix\")\n",
    "plt.imshow(dist_mat, cmap=plt.cm.binary, interpolation=\"nearest\", origin=\"lower\")\n",
    "plt.subplot(122)\n",
    "plt.title(\"Cost matrix\")\n",
    "plt.imshow(cost_mat, cmap=plt.cm.binary, interpolation=\"nearest\", origin=\"lower\")\n",
    "x_path, y_path = zip(*path)\n",
    "plt.plot(y_path, x_path);"
   ]
  },
  {
   "cell_type": "code",
   "execution_count": null,
   "id": "6bf83b40",
   "metadata": {},
   "outputs": [],
   "source": [
    "plt.figure()\n",
    "for x_i, y_j in path:\n",
    "    plt.plot([x_i, y_j], [x[x_i] + 1.5, y[y_j] - 1.5], c=\"C7\")\n",
    "plt.plot(np.arange(x.shape[0]), x + 1.5, \"-o\", c=\"C3\")\n",
    "plt.plot(np.arange(y.shape[0]), y - 1.5, \"-o\", c=\"C0\")\n",
    "plt.axis(\"off\")"
   ]
  },
  {
   "cell_type": "code",
   "execution_count": null,
   "id": "b2be3d9b",
   "metadata": {},
   "outputs": [],
   "source": [
    "\n",
    "plt.figure(figsize=(6, 4))\n",
    "plt.plot(np.arange(x.shape[0]), x + 1.5, \"-o\", c=\"C3\")\n",
    "plt.plot(np.arange(y.shape[0]), y - 1.5, \"-o\", c=\"C0\")\n",
    "plt.axis(\"off\")\n",
    "plt.savefig(\"fig/signals_a_b.pdf\")"
   ]
  }
 ],
 "metadata": {
  "kernelspec": {
   "display_name": "Python 3 (ipykernel)",
   "language": "python",
   "name": "python3"
  },
  "language_info": {
   "codemirror_mode": {
    "name": "ipython",
    "version": 3
   },
   "file_extension": ".py",
   "mimetype": "text/x-python",
   "name": "python",
   "nbconvert_exporter": "python",
   "pygments_lexer": "ipython3",
   "version": "3.9.7"
  }
 },
 "nbformat": 4,
 "nbformat_minor": 5
}
